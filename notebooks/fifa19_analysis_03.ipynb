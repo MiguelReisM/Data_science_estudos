{
 "cells": [
  {
   "cell_type": "code",
   "execution_count": null,
   "id": "ca4fb4e5",
   "metadata": {},
   "outputs": [],
   "source": [
    "import pandas as pd\n",
    "\n",
    "# Teste com latin1\n",
    "df = pd.read_csv(\"../data/fifa.csv\", encoding=\"latin1\")\n",
    "# df = pd.read_csv(\"../data/fifa.csv\", encoding=\"ISO-8859-1\")\n"
   ]
  },
  {
   "cell_type": "code",
   "execution_count": null,
   "id": "45403d99",
   "metadata": {},
   "outputs": [],
   "source": [
    "df['Total'] = df['Acceleration'] + df['Agility'] + df['Reactions']\n",
    "#Soma os valores dessas colunas e acrescenta uma nova coluna chamada Total ao final\n"
   ]
  },
  {
   "cell_type": "code",
   "execution_count": null,
   "id": "2eb6c9cb",
   "metadata": {},
   "outputs": [],
   "source": [
    "df = df[['Name', 'Total']]\n",
    "df.sort_values('Total', ascending = False)\n",
    "# Baseado nesssa somatoria da coluna criada (Total) filtramos e organizamos esses valores"
   ]
  }
 ],
 "metadata": {
  "kernelspec": {
   "display_name": ".venv",
   "language": "python",
   "name": "python3"
  },
  "language_info": {
   "codemirror_mode": {
    "name": "ipython",
    "version": 3
   },
   "file_extension": ".py",
   "mimetype": "text/x-python",
   "name": "python",
   "nbconvert_exporter": "python",
   "pygments_lexer": "ipython3",
   "version": "3.13.5"
  }
 },
 "nbformat": 4,
 "nbformat_minor": 5
}
