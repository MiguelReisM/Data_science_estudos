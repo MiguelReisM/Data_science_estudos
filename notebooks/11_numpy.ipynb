{
 "cells": [
  {
   "cell_type": "code",
   "execution_count": 27,
   "id": "4d07e2ab",
   "metadata": {},
   "outputs": [],
   "source": [
    "import numpy as np"
   ]
  },
  {
   "cell_type": "markdown",
   "id": "e896bd51",
   "metadata": {},
   "source": [
    "Array 1D"
   ]
  },
  {
   "cell_type": "code",
   "execution_count": 28,
   "id": "ebbb4e34",
   "metadata": {},
   "outputs": [
    {
     "name": "stdout",
     "output_type": "stream",
     "text": [
      "[1 2 3]\n"
     ]
    }
   ],
   "source": [
    "d1 = np.array([1, 2, 3])\n",
    "print(d1)\n"
   ]
  },
  {
   "cell_type": "code",
   "execution_count": 29,
   "id": "f6397e04",
   "metadata": {},
   "outputs": [
    {
     "data": {
      "text/plain": [
       "(3,)"
      ]
     },
     "execution_count": 29,
     "metadata": {},
     "output_type": "execute_result"
    }
   ],
   "source": [
    "d1.shape\n",
    "#tamanho\n"
   ]
  },
  {
   "cell_type": "code",
   "execution_count": 30,
   "id": "cc8a58c4",
   "metadata": {},
   "outputs": [
    {
     "data": {
      "text/plain": [
       "1"
      ]
     },
     "execution_count": 30,
     "metadata": {},
     "output_type": "execute_result"
    }
   ],
   "source": [
    "d1.ndim\n",
    "#quantas dimensoes\n"
   ]
  },
  {
   "cell_type": "code",
   "execution_count": 31,
   "id": "5c79e7bf",
   "metadata": {},
   "outputs": [
    {
     "data": {
      "text/plain": [
       "dtype('int64')"
      ]
     },
     "execution_count": 31,
     "metadata": {},
     "output_type": "execute_result"
    }
   ],
   "source": [
    "d1.dtype"
   ]
  },
  {
   "cell_type": "markdown",
   "id": "fbd2f48c",
   "metadata": {},
   "source": [
    "Array 2D"
   ]
  },
  {
   "cell_type": "code",
   "execution_count": 32,
   "id": "0ad85356",
   "metadata": {},
   "outputs": [
    {
     "name": "stdout",
     "output_type": "stream",
     "text": [
      "[[1 2 3]\n",
      " [4 5 6]]\n"
     ]
    }
   ],
   "source": [
    "d2 = np.array([[1, 2, 3], [4, 5, 6]])\n",
    "print(d2)\n"
   ]
  },
  {
   "cell_type": "code",
   "execution_count": 33,
   "id": "b425bcf3",
   "metadata": {},
   "outputs": [
    {
     "data": {
      "text/plain": [
       "(2, 3)"
      ]
     },
     "execution_count": 33,
     "metadata": {},
     "output_type": "execute_result"
    }
   ],
   "source": [
    "d2.shape\n"
   ]
  },
  {
   "cell_type": "code",
   "execution_count": 34,
   "id": "ef49048a",
   "metadata": {},
   "outputs": [
    {
     "data": {
      "text/plain": [
       "2"
      ]
     },
     "execution_count": 34,
     "metadata": {},
     "output_type": "execute_result"
    }
   ],
   "source": [
    "d2.ndim\n"
   ]
  },
  {
   "cell_type": "code",
   "execution_count": 35,
   "id": "78d7497b",
   "metadata": {},
   "outputs": [
    {
     "data": {
      "text/plain": [
       "dtype('int64')"
      ]
     },
     "execution_count": 35,
     "metadata": {},
     "output_type": "execute_result"
    }
   ],
   "source": [
    "d2.dtype\n"
   ]
  },
  {
   "cell_type": "markdown",
   "id": "1cfd3ae3",
   "metadata": {},
   "source": [
    "Array 3D"
   ]
  },
  {
   "cell_type": "code",
   "execution_count": 36,
   "id": "c72f5f99",
   "metadata": {},
   "outputs": [
    {
     "name": "stdout",
     "output_type": "stream",
     "text": [
      "[[[1 2]\n",
      "  [3 4]]\n",
      "\n",
      " [[5 6]\n",
      "  [7 8]]]\n"
     ]
    }
   ],
   "source": [
    "d3 = np.array([[[1, 2], [3, 4]], [[5, 6], [7, 8]]])\n",
    "print(d3)\n"
   ]
  },
  {
   "cell_type": "code",
   "execution_count": 37,
   "id": "dd10c545",
   "metadata": {},
   "outputs": [
    {
     "data": {
      "text/plain": [
       "(2, 2, 2)"
      ]
     },
     "execution_count": 37,
     "metadata": {},
     "output_type": "execute_result"
    }
   ],
   "source": [
    "d3.shape\n"
   ]
  },
  {
   "cell_type": "code",
   "execution_count": 38,
   "id": "4c3788e1",
   "metadata": {},
   "outputs": [
    {
     "data": {
      "text/plain": [
       "3"
      ]
     },
     "execution_count": 38,
     "metadata": {},
     "output_type": "execute_result"
    }
   ],
   "source": [
    "d3.ndim\n"
   ]
  },
  {
   "cell_type": "code",
   "execution_count": 39,
   "id": "825aff58",
   "metadata": {},
   "outputs": [
    {
     "data": {
      "text/plain": [
       "dtype('int64')"
      ]
     },
     "execution_count": 39,
     "metadata": {},
     "output_type": "execute_result"
    }
   ],
   "source": [
    "d3.dtype\n"
   ]
  }
 ],
 "metadata": {
  "kernelspec": {
   "display_name": ".venv",
   "language": "python",
   "name": "python3"
  },
  "language_info": {
   "codemirror_mode": {
    "name": "ipython",
    "version": 3
   },
   "file_extension": ".py",
   "mimetype": "text/x-python",
   "name": "python",
   "nbconvert_exporter": "python",
   "pygments_lexer": "ipython3",
   "version": "3.13.5"
  }
 },
 "nbformat": 4,
 "nbformat_minor": 5
}
