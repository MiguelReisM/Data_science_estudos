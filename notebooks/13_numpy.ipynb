{
 "cells": [
  {
   "cell_type": "code",
   "execution_count": 19,
   "id": "4d07e2ab",
   "metadata": {},
   "outputs": [],
   "source": [
    "import numpy as np"
   ]
  },
  {
   "cell_type": "code",
   "execution_count": 20,
   "id": "f930f056",
   "metadata": {},
   "outputs": [
    {
     "name": "stdout",
     "output_type": "stream",
     "text": [
      "[[2 3 4 5]\n",
      " [6 7 8 9]]\n"
     ]
    }
   ],
   "source": [
    "a = np.array([[2, 3, 4, 5],[6, 7, 8, 9]])\n",
    "print(a)\n"
   ]
  },
  {
   "cell_type": "markdown",
   "id": "0ca1c50d",
   "metadata": {},
   "source": [
    "Para buscar o valor 8 nesse caso vamos na linha index 1 (segunda) row // e na coluna index 2 (terceira) colu"
   ]
  },
  {
   "cell_type": "code",
   "execution_count": 21,
   "id": "2733482f",
   "metadata": {},
   "outputs": [
    {
     "data": {
      "text/plain": [
       "np.int64(8)"
      ]
     },
     "execution_count": 21,
     "metadata": {},
     "output_type": "execute_result"
    }
   ],
   "source": [
    "#Array[row, colu]\n",
    "a[1,2]"
   ]
  },
  {
   "cell_type": "markdown",
   "id": "006496bc",
   "metadata": {},
   "source": [
    "Para uma row inteira"
   ]
  },
  {
   "cell_type": "code",
   "execution_count": 22,
   "id": "1099d110",
   "metadata": {},
   "outputs": [
    {
     "data": {
      "text/plain": [
       "array([2, 3, 4, 5])"
      ]
     },
     "execution_count": 22,
     "metadata": {},
     "output_type": "execute_result"
    }
   ],
   "source": [
    "a[0,:]"
   ]
  },
  {
   "cell_type": "markdown",
   "id": "d8a8a90d",
   "metadata": {},
   "source": [
    "valores especificos em rows diferentes"
   ]
  },
  {
   "cell_type": "code",
   "execution_count": 23,
   "id": "700fc83b",
   "metadata": {},
   "outputs": [
    {
     "data": {
      "text/plain": [
       "array([3, 7])"
      ]
     },
     "execution_count": 23,
     "metadata": {},
     "output_type": "execute_result"
    }
   ],
   "source": [
    "a[[0,1],[1,1]]"
   ]
  },
  {
   "cell_type": "markdown",
   "id": "cd154fbd",
   "metadata": {},
   "source": [
    "Para uma col inteira"
   ]
  },
  {
   "cell_type": "code",
   "execution_count": 24,
   "id": "91cb9e62",
   "metadata": {},
   "outputs": [
    {
     "data": {
      "text/plain": [
       "array([3, 7])"
      ]
     },
     "execution_count": 24,
     "metadata": {},
     "output_type": "execute_result"
    }
   ],
   "source": [
    "a[:,1]"
   ]
  }
 ],
 "metadata": {
  "kernelspec": {
   "display_name": ".venv",
   "language": "python",
   "name": "python3"
  },
  "language_info": {
   "codemirror_mode": {
    "name": "ipython",
    "version": 3
   },
   "file_extension": ".py",
   "mimetype": "text/x-python",
   "name": "python",
   "nbconvert_exporter": "python",
   "pygments_lexer": "ipython3",
   "version": "3.13.5"
  }
 },
 "nbformat": 4,
 "nbformat_minor": 5
}
