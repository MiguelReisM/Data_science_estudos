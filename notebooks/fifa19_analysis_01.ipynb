{
 "cells": [
  {
   "cell_type": "code",
   "execution_count": null,
   "id": "ca4fb4e5",
   "metadata": {},
   "outputs": [],
   "source": [
    "import pandas as pd\n",
    "\n",
    "# Teste com latin1\n",
    "df = pd.read_csv(\"../data/fifa.csv\", encoding=\"latin1\")\n",
    "# df = pd.read_csv(\"../data/fifa.csv\", encoding=\"ISO-8859-1\")\n",
    "\n",
    "df\n"
   ]
  },
  {
   "cell_type": "code",
   "execution_count": null,
   "id": "2c5ce2bd",
   "metadata": {},
   "outputs": [],
   "source": [
    "df.head()\n",
    "#5 primeiros:\n"
   ]
  },
  {
   "cell_type": "code",
   "execution_count": null,
   "id": "822a91b3",
   "metadata": {},
   "outputs": [],
   "source": [
    "df.tail()\n",
    "#5 últimos:\n"
   ]
  },
  {
   "cell_type": "code",
   "execution_count": null,
   "id": "38400e20",
   "metadata": {},
   "outputs": [],
   "source": [
    "df.columns\n",
    "#Mostra as colunas\n"
   ]
  },
  {
   "cell_type": "code",
   "execution_count": null,
   "id": "c35d4b09",
   "metadata": {},
   "outputs": [],
   "source": [
    "df.index\n",
    "#mostra quantos itens tem\n"
   ]
  },
  {
   "cell_type": "code",
   "execution_count": null,
   "id": "c39c4bfc",
   "metadata": {},
   "outputs": [],
   "source": [
    "df[[ 'Name', 'Nationality']]\n",
    "#Mostra o nome e a nacionalidade filtrados\n"
   ]
  },
  {
   "cell_type": "code",
   "execution_count": null,
   "id": "e3a9f99f",
   "metadata": {},
   "outputs": [],
   "source": [
    "df.iloc[0:3]\n",
    "#mostrar informacoes isoladas ou agrupadas em um range escolhido\n"
   ]
  },
  {
   "cell_type": "code",
   "execution_count": null,
   "id": "3721f8a4",
   "metadata": {},
   "outputs": [],
   "source": [
    "df.iloc[2,2]\n",
    "#Puxa dado da linha 2 coluna 2\n"
   ]
  }
 ],
 "metadata": {
  "kernelspec": {
   "display_name": ".venv",
   "language": "python",
   "name": "python3"
  },
  "language_info": {
   "codemirror_mode": {
    "name": "ipython",
    "version": 3
   },
   "file_extension": ".py",
   "mimetype": "text/x-python",
   "name": "python",
   "nbconvert_exporter": "python",
   "pygments_lexer": "ipython3",
   "version": "3.13.5"
  }
 },
 "nbformat": 4,
 "nbformat_minor": 5
}
